{
    "cells": [
        {
            "cell_type": "code",
            "execution_count": null,
            "metadata": {},
            "outputs": [],
            "source": "\"\"\"Contains examples\"\"\"\n\nimport datetime as dt\n"
        },
        {
            "cell_type": "markdown",
            "metadata": {},
            "source": "choose the project class according to the desired weather data origin\n"
        },
        {
            "cell_type": "code",
            "execution_count": null,
            "metadata": {},
            "outputs": [],
            "source": "from aixweather.project_class import ProjectClassDWDHistorical\n"
        },
        {
            "cell_type": "markdown",
            "metadata": {},
            "source": "initiate the project class which contains or creates all variables and functions\n"
        },
        {
            "cell_type": "code",
            "execution_count": null,
            "metadata": {},
            "outputs": [],
            "source": "DWD_pull_project = ProjectClassDWDHistorical(\n    start=dt.datetime(2022, 1, 1),\n    end=dt.datetime(2023, 1, 1),\n    station=15000,\n    # specify whether nan-values should be filled when exporting\n    fillna=True,\n    # define results path if desired\n    abs_result_folder_path=None,\n)\n"
        },
        {
            "cell_type": "markdown",
            "metadata": {},
            "source": "import historical weather from the DWD open access database\n"
        },
        {
            "cell_type": "code",
            "execution_count": null,
            "metadata": {},
            "outputs": [],
            "source": "DWD_pull_project.import_data()\nprint(\n    f\"\\nHow the imported data looks like:\\n{DWD_pull_project.imported_data.head()}\\n\"\n)\n"
        },
        {
            "cell_type": "markdown",
            "metadata": {},
            "source": "convert this imported data to the core format\n"
        },
        {
            "cell_type": "code",
            "execution_count": null,
            "metadata": {},
            "outputs": [],
            "source": "DWD_pull_project.data_2_core_data()\nprint(f\"\\nHow the core data looks like:\\n{DWD_pull_project.core_data.head()}\\n\")\n"
        },
        {
            "cell_type": "markdown",
            "metadata": {},
            "source": "you may also use data quality check utils, like:\n"
        },
        {
            "cell_type": "code",
            "execution_count": null,
            "metadata": {},
            "outputs": [],
            "source": "from aixweather.data_quality_checks import plot_heatmap_missing_values_daily\n"
        },
        {
            "cell_type": "markdown",
            "metadata": {},
            "source": "plot data quality\n"
        },
        {
            "cell_type": "code",
            "execution_count": null,
            "metadata": {},
            "outputs": [],
            "source": "plot = plot_heatmap_missing_values_daily(DWD_pull_project.core_data)\nplot.show()\n"
        },
        {
            "cell_type": "markdown",
            "metadata": {},
            "source": "convert this core data to an output data format of your choice\n"
        },
        {
            "cell_type": "code",
            "execution_count": null,
            "metadata": {},
            "outputs": [],
            "source": "DWD_pull_project.core_2_csv()\nDWD_pull_project.core_2_json()\nDWD_pull_project.core_2_pickle()\nDWD_pull_project.core_2_mos()\nDWD_pull_project.core_2_epw()\n"
        }
    ],
    "metadata": {
        "kernelspec": {
            "display_name": "Python 3",
            "language": "python",
            "name": "python3"
        },
        "language_info": {
            "codemirror_mode": {
                "name": "ipython",
                "version": 3
            },
            "file_extension": ".py",
            "mimetype": "text/x-python",
            "name": "python",
            "nbconvert_exporter": "python",
            "pygments_lexer": "ipython3",
            "version": "3.6.4"
        }
    },
    "nbformat": 4,
    "nbformat_minor": 2
}